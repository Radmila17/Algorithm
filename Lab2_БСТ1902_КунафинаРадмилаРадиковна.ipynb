{
 "cells": [
  {
   "cell_type": "markdown",
   "metadata": {},
   "source": [
    "# Лабораторная работа №2"
   ]
  },
  {
   "cell_type": "markdown",
   "metadata": {},
   "source": [
    "## Выполнила студентка группы БСТ1902 Кунафина Р.Р."
   ]
  },
  {
   "cell_type": "markdown",
   "metadata": {},
   "source": [
    "Реализовать методы поиска в соответствии с заданием. Организовать генерацию начального набора случайных данных. Для всех вариантов добавить реализацию добавления, поиска и удаления элементов. Оценить время работы каждого алгоритма поиска и сравнить его со временем работы стандартной функции поиска, используемой в выбранном языке программирования."
   ]
  },
  {
   "cell_type": "markdown",
   "metadata": {},
   "source": [
    "### Задание №1"
   ]
  },
  {
   "cell_type": "markdown",
   "metadata": {},
   "source": [
    "### Бинарное дерево"
   ]
  },
  {
   "cell_type": "code",
   "execution_count": 1,
   "metadata": {},
   "outputs": [],
   "source": [
    "import random\n",
    "import time\n",
    "\n",
    "class TreeNode:\n",
    "    def __init__(self, value, left = None, right = None, parent = None):\n",
    "        self.value = value\n",
    "        self.leftChild = left\n",
    "        self.rightChild = right\n",
    "        self.parent = parent\n",
    "    \n",
    "    def hasLeftChild(self):\n",
    "        return self.leftChild\n",
    "    \n",
    "    def hasRightChild(self):\n",
    "        return self.rightChild\n",
    "    \n",
    "    def isLeftChild(self):\n",
    "        return self.parent and self.parent.leftChild == self\n",
    "    \n",
    "    def isRightChild(self):\n",
    "        return self.parent and self.parent.rightChild == self\n",
    "    \n",
    "    def isLeaf(self):\n",
    "        return not (self.rightChild or self.leftChild)\n",
    "    \n",
    "    def hasBothChildren(self):\n",
    "        return self.rightChild and self.leftChild\n",
    "    \n",
    "    def spliceOut(self):\n",
    "        if self.isLeaf():\n",
    "            if self.isLeftChild():\n",
    "                self.parent.leftChild = None\n",
    "            else:\n",
    "                self.parent.rightChild = None\n",
    "        elif self.hasAnyChildren():\n",
    "            if self.hasLeftChild():\n",
    "                if self.isLeftChild():\n",
    "                    self.parent.leftChild = self.leftChild\n",
    "                else:\n",
    "                    self.parent.rightChild = self.leftChild\n",
    "                self.leftChild.parent = self.parent\n",
    "            else:\n",
    "                if self.isLeftChild():\n",
    "                    self.parent.leftChild = self.rightChild\n",
    "                else:\n",
    "                    self.parent.rightChild = self.rightChild\n",
    "                self.rightChild.parent = self.parent\n",
    "\n",
    "    def findSuccessor(self):\n",
    "        succ = None\n",
    "        if self.hasRightChild():\n",
    "            succ = self.rightChild.findMin()\n",
    "        else:\n",
    "            if self.parent:\n",
    "                if self.isLeftChild():\n",
    "                    succ = self.parent\n",
    "                else:\n",
    "                    self.parent.rightChild = None\n",
    "                    succ = self.parent.findSuccessor()\n",
    "                    self.parent.rightChild = self\n",
    "        return succ\n",
    "\n",
    "    def findMin(self):\n",
    "        current = self\n",
    "        while current.hasLeftChild():\n",
    "            current = current.leftChild\n",
    "        return current\n",
    "    \n",
    "    def replaceNodeData(self, value, leftChild, rightChild):\n",
    "        self.value = value\n",
    "        self.leftChild = leftChild\n",
    "        self.rightChild = rightChild\n",
    "        if self.hasLeftChild():\n",
    "            self.leftChild.parent = self\n",
    "        if self.hasRightChild():\n",
    "            self.rightChild.parent = self\n",
    "    \n",
    "class BinaryTree:\n",
    "    def __init__(self):\n",
    "        self.root = None\n",
    "        self.size = 0\n",
    "    \n",
    "    def length(self):\n",
    "        return self.size\n",
    "    \n",
    "    def add(self, value):\n",
    "        if self.root:\n",
    "            self._add(value, self.root)\n",
    "        else:\n",
    "            self.root = TreeNode(value)\n",
    "        self.size = self.size + 1\n",
    "    \n",
    "    def _add(self, value, currentNode):\n",
    "        if value < currentNode.value:\n",
    "            if currentNode.hasLeftChild():\n",
    "                self._add(value, currentNode.leftChild)\n",
    "            else:\n",
    "                currentNode.leftChild = TreeNode(value, parent = currentNode)\n",
    "        else:\n",
    "            if currentNode.hasRightChild():\n",
    "                self._add(value, currentNode.rightChild)\n",
    "            else:\n",
    "                currentNode.rightChild = TreeNode(value, parent = currentNode)\n",
    "    \n",
    "    def getItemNode(self, value, currentNode = None):\n",
    "        if currentNode is None:\n",
    "            currentNode = self.root\n",
    "        if value < currentNode.value:\n",
    "            if currentNode.hasLeftChild():\n",
    "                return self.getItemNode(value, currentNode.leftChild)\n",
    "            else:\n",
    "                return None\n",
    "        elif value > currentNode.value:\n",
    "            if currentNode.hasRightChild():\n",
    "                return self.getItemNode(value, currentNode.rightChild)\n",
    "            else:\n",
    "                return None\n",
    "        else:\n",
    "            return currentNode\n",
    "    \n",
    "    def isInTree(self, value):\n",
    "        if self.getItemNode(value):\n",
    "            print(\"Значение \", value, \" найдено\")\n",
    "        else:\n",
    "            print(\"Значение \", value, \" не найдено\")\n",
    "    \n",
    "    def deleteItem(self, value):\n",
    "        if self.size > 1:\n",
    "            nodeToRemove = self.getItemNode(value)\n",
    "            if nodeToRemove:\n",
    "                self.remove(nodeToRemove)\n",
    "                self.size -= 1\n",
    "                print(\"Значение \", value, \" успешно удалено\")\n",
    "            else:\n",
    "                print(\"Данного значения нет в дереве\")\n",
    "        elif self.size == 1 and self.root.value == value:\n",
    "            self.root = None\n",
    "            self.size -= 1\n",
    "            print(\"Значение \", value, \" успешно удалено\")\n",
    "        else:\n",
    "            print(\"Данного значения нет в дереве\")\n",
    "    \n",
    "    def remove(self, currentNode):\n",
    "        if currentNode.isLeaf():\n",
    "            if currentNode == currentNode.parent.leftChild:\n",
    "                currentNode.parent.leftChild = None\n",
    "            else:\n",
    "                currentNode.parent.rightChild = None\n",
    "        elif currentNode.hasBothChildren():\n",
    "            succ = currentNode.findSuccessor()\n",
    "            succ.spliceOut()\n",
    "            currentNode.value = succ.value\n",
    "        else:\n",
    "            if currentNode.hasLeftChild():\n",
    "                if currentNode.isLeftChild():\n",
    "                    currentNode.leftChild.parent = currentNode.parent\n",
    "                    currentNode.parent.leftChild = currentNode.leftChild\n",
    "                elif currentNode.isRightChild():\n",
    "                    currentNode.leftChild.parent = currentNode.parent\n",
    "                    currentNode.parent.rightChild = currentNode.leftChild\n",
    "                else:\n",
    "                    currentNode.replaceNodeData(currentNode.leftChild.value,\n",
    "                                                currentNode.leftChild.leftChild,\n",
    "                                                currentNode.leftChild.rightChild)\n",
    "            else:\n",
    "                if currentNode.isLeftChild():\n",
    "                    currentNode.rightChild.parent = currentNode.parent\n",
    "                    currentNode.parent.leftChild = currentNode.rightChild\n",
    "                elif currentNode.isRightChild():\n",
    "                    currentNode.rightChild.parent = currentNode.parent\n",
    "                    currentNode.parent.rightChild = currentNode.rightChild\n",
    "                else:\n",
    "                    currentNode.replaceNodeData(currentNode.rightChild.value,\n",
    "                                                currentNode.rightChild.leftChild,\n",
    "                                                currentNode.rightChild.rightChild)\n",
    "                    \n",
    "    def insertList(self, arr):\n",
    "        for i in arr:\n",
    "            self.add(i)"
   ]
  },
  {
   "cell_type": "markdown",
   "metadata": {},
   "source": [
    "###  Бинарный поиск\n"
   ]
  },
  {
   "cell_type": "code",
   "execution_count": 2,
   "metadata": {},
   "outputs": [],
   "source": [
    "def binarySearch(arr, key, lowest = 0, highest = None):\n",
    "    if highest is None:\n",
    "        highest = len(arr) - 1\n",
    "    if lowest <= highest:\n",
    "        item = (lowest + highest) // 2\n",
    "        if arr[item] == key:\n",
    "            return item\n",
    "        elif arr[item] > key:\n",
    "            return binarySearch(arr, key, lowest, item - 1)\n",
    "        else:\n",
    "            return binarySearch(arr, key, item + 1, highest)\n",
    "    else:\n",
    "        return -1"
   ]
  },
  {
   "cell_type": "markdown",
   "metadata": {},
   "source": [
    "### Фибоначчиев поиск\n"
   ]
  },
  {
   "cell_type": "code",
   "execution_count": 3,
   "metadata": {},
   "outputs": [],
   "source": [
    "\n",
    "def fibonacciSearch(arr, key):\n",
    "    fibM_minus_2 = 0\n",
    "    fibM_minus_1 = 1\n",
    "    fibM = fibM_minus_1 + fibM_minus_2\n",
    "    while (fibM < len(arr)):\n",
    "        fibM_minus_2 = fibM_minus_1\n",
    "        fibM_minus_1 = fibM\n",
    "        fibM = fibM_minus_1 + fibM_minus_2\n",
    "    index = -1;\n",
    "    while (fibM > 1):\n",
    "        i = min(index + fibM_minus_2, (len(arr)-1))\n",
    "        if (arr[i] < key):\n",
    "            fibM = fibM_minus_1\n",
    "            fibM_minus_1 = fibM_minus_2\n",
    "            fibM_minus_2 = fibM - fibM_minus_1\n",
    "            index = i\n",
    "        elif (arr[i] > key):\n",
    "            fibM = fibM_minus_2\n",
    "            fibM_minus_1 = fibM_minus_1 - fibM_minus_2\n",
    "            fibM_minus_2 = fibM - fibM_minus_1\n",
    "        else :\n",
    "            return i\n",
    "    if(fibM_minus_1 and index < (len(arr)-1) and arr[index+1] == key):\n",
    "        return index+1;\n",
    "    return -1"
   ]
  },
  {
   "cell_type": "markdown",
   "metadata": {},
   "source": [
    "### Интерполяционный поиск\n"
   ]
  },
  {
   "cell_type": "code",
   "execution_count": 5,
   "metadata": {},
   "outputs": [],
   "source": [
    "def interpolationSearch(arr, key):\n",
    "    low = 0\n",
    "    high = (len(arr) - 1)\n",
    "    while low <= high and key >= arr[low] and key <= arr[high]:\n",
    "        index = low + int(((float(high - low) / ( arr[high] - arr[low])) * ( key - arr[low])))\n",
    "        if arr[index] == key:\n",
    "            return index\n",
    "        if arr[index] < key:\n",
    "            low = index + 1;\n",
    "        else:\n",
    "            high = index - 1;\n",
    "    return -1"
   ]
  },
  {
   "cell_type": "markdown",
   "metadata": {},
   "source": [
    "## Задание 2"
   ]
  },
  {
   "cell_type": "markdown",
   "metadata": {},
   "source": [
    "### Простое рехэширование\n"
   ]
  },
  {
   "cell_type": "code",
   "execution_count": 7,
   "metadata": {},
   "outputs": [],
   "source": [
    "class HashTable:  \n",
    "    def __init__(self, size = 20):\n",
    "        self.size = size\n",
    "        self.data = [None for i in range(size)]\n",
    "            \n",
    "    def get_hash(self, key, i=0):\n",
    "        return (hash(key) + i) % self.size\n",
    "    \n",
    "    def __getitem__(self, key):\n",
    "        i = 0\n",
    "        while True:\n",
    "            index = self.get_hash(key, i)\n",
    "            if self.data[index] is None or i == self.size:\n",
    "                break\n",
    "            if self.data[index][0] == key:\n",
    "                return self.data[index][1]\n",
    "            i += 1\n",
    "    \n",
    "    def __setitem__(self, key, value):\n",
    "        i = 0\n",
    "        while True:\n",
    "            index = self.get_hash(key, i)\n",
    "            if self.data[index] is None:\n",
    "                self.data[index] = (key, value)\n",
    "                break\n",
    "            elif self.data[index] is not None and i != self.size:\n",
    "                i += 1\n",
    "                continue\n",
    "            else:\n",
    "                print(\"В таблице нет свободных ячеек\")\n",
    "                break \n",
    "        \n",
    "    def __delitem__(self, key):\n",
    "        i = 0\n",
    "        while True:\n",
    "            index = self.get_hash(key, i)\n",
    "            if self.data[index][0] == key:\n",
    "                self.data[index] = None\n",
    "                print(\"Элемент {} удален\".format(key))\n",
    "                break\n",
    "            elif self.data[index] is not None and i != self.size:\n",
    "                i += 1\n",
    "                continue\n",
    "            else:\n",
    "                print(\"Элемента {} нет в таблице\".format(key))\n",
    "                break"
   ]
  },
  {
   "cell_type": "markdown",
   "metadata": {},
   "source": [
    "### Рехэширование с помощью псевдослучайных чисел "
   ]
  },
  {
   "cell_type": "code",
   "execution_count": 8,
   "metadata": {},
   "outputs": [],
   "source": [
    "class HashTableRand(HashTable):\n",
    "    def get_hash(self, key, i=0):\n",
    "        return (2 * hash(key) + i+2) % self.size"
   ]
  },
  {
   "cell_type": "markdown",
   "metadata": {},
   "source": [
    "### Метод цепочек "
   ]
  },
  {
   "cell_type": "code",
   "execution_count": 9,
   "metadata": {},
   "outputs": [],
   "source": [
    "class HashTableChain(HashTable):\n",
    "    def __init__(self, size = 20):\n",
    "        self.size = size\n",
    "        self.data = [[] for i in range(size)]\n",
    "    \n",
    "    def get_hash(self, key):\n",
    "        return hash(key) % self.size\n",
    "    \n",
    "    def __getitem__(self, key):\n",
    "        arr_index = self.get_hash(key)\n",
    "        for kv in self.data[arr_index]:\n",
    "            if kv[0] == key:\n",
    "                return kv[1]\n",
    "            \n",
    "    def __setitem__(self, key, val):\n",
    "        h = self.get_hash(key)\n",
    "        found = False\n",
    "        for idx, element in enumerate(self.data[h]):\n",
    "            if len(element)==2 and element[0] == key:\n",
    "                self.data[h][idx] = (key,val)\n",
    "                found = True\n",
    "        if not found:\n",
    "            self.data[h].append((key,val))\n",
    "        \n",
    "    def __delitem__(self, key):\n",
    "        arr_index = self.get_hash(key)\n",
    "        for index, kv in enumerate(self.data[arr_index]):\n",
    "            if kv[0] == key:\n",
    "                print(\"Элемент {} удален\".format(key))\n",
    "                del self.data[arr_index][index]"
   ]
  },
  {
   "cell_type": "markdown",
   "metadata": {},
   "source": [
    "### Стандартный поиск"
   ]
  },
  {
   "cell_type": "code",
   "execution_count": 10,
   "metadata": {},
   "outputs": [],
   "source": [
    "def defaultSearch(arr, key):\n",
    "    try:\n",
    "        return arr.index(key)\n",
    "    except ValueError:\n",
    "        return -1"
   ]
  },
  {
   "cell_type": "markdown",
   "metadata": {},
   "source": [
    "### Вспомогательные функции для оценки времени работы поиска "
   ]
  },
  {
   "cell_type": "code",
   "execution_count": 11,
   "metadata": {},
   "outputs": [],
   "source": [
    "def searchItem(arr, key, searchMethod):\n",
    "    startTime = time.perf_counter()\n",
    "    searchMethod(arr, key)        \n",
    "    return time.perf_counter() - startTime\n",
    "\n",
    "def searchItemHash(table, key):\n",
    "    startTime = time.perf_counter()\n",
    "    table[key]\n",
    "    return time.perf_counter() - startTime\n",
    "\n",
    "def searchItemTree(tree, key):\n",
    "    startTime = time.perf_counter()\n",
    "    tree.isInTree(key)\n",
    "    return time.perf_counter() - startTime\n",
    "\n",
    "def fillHashTable(arr, arrStr, table):\n",
    "    for i in range(len(arrStr)):\n",
    "        table[arr[i]] = arrStr[i]"
   ]
  },
  {
   "cell_type": "markdown",
   "metadata": {},
   "source": [
    "### Результаты\n"
   ]
  },
  {
   "cell_type": "code",
   "execution_count": 12,
   "metadata": {
    "scrolled": true
   },
   "outputs": [
    {
     "name": "stdout",
     "output_type": "stream",
     "text": [
      "[0, 4, 8, 11, 16, 19, 20, 21, 32, 33, 50, 91, 94, 96, 99]\n",
      "Время поиска элемента 20\n",
      "Стандартный поиск:  2.200000039920269e-06\n",
      "Бинарный поиск:  5.400000077315781e-06\n",
      "Фибоначчиев поиск:  7.3999999585794285e-06\n",
      "Интерполяционный поиск:  7.4999999242209014e-06\n",
      "Простое рехэширование:  3.89999991057266e-06\n",
      "Псевдослучайное рехэширование:  3.5999998999614036e-06\n",
      "Метод цепочек:  1.9999999949504854e-06\n",
      "Значение  20  найдено\n",
      "Бинарное дерево:  0.00019540000005235925\n"
     ]
    }
   ],
   "source": [
    "arr = [0, 4, 8, 11, 16, 19, 20, 21, 32, 33, 50, 91, 94, 96, 99]\n",
    "arrStr = [\"a\", \"b\", \"c\", \"d\", \"e\", \"f\", \"g\"]\n",
    "key = 20\n",
    "\n",
    "tree = BinaryTree()\n",
    "tree.insertList(arr)\n",
    "\n",
    "tableStandard = HashTable()\n",
    "tableRand = HashTableRand()\n",
    "tableChain = HashTableChain()\n",
    "\n",
    "fillHashTable(arr, arrStr, tableStandard)\n",
    "fillHashTable(arr, arrStr, tableRand)\n",
    "fillHashTable(arr, arrStr, tableChain)\n",
    "\n",
    "\n",
    "print(arr)\n",
    "print(\"Время поиска элемента 20\")\n",
    "print(\"Стандартный поиск: \", searchItem(arr, key, defaultSearch))\n",
    "print(\"Бинарный поиск: \", searchItem(arr, key, binarySearch))\n",
    "print(\"Фибоначчиев поиск: \", searchItem(arr, key, fibonacciSearch))\n",
    "print(\"Интерполяционный поиск: \", searchItem(arr, key, interpolationSearch))\n",
    "print(\"Простое рехэширование: \", searchItemHash(tableStandard, key))\n",
    "print(\"Псевдослучайное рехэширование: \", searchItemHash(tableRand, key))\n",
    "print(\"Метод цепочек: \", searchItemHash(tableChain, key))\n",
    "print(\"Бинарное дерево: \", searchItemTree(tree, key))"
   ]
  },
  {
   "cell_type": "markdown",
   "metadata": {},
   "source": [
    "### Задание 3 "
   ]
  },
  {
   "cell_type": "code",
   "execution_count": 2,
   "metadata": {},
   "outputs": [
    {
     "name": "stdout",
     "output_type": "stream",
     "text": [
      "[[0, 1, 0, 0, 0, 0, 0, 0], [0, 0, 0, 1, 0, 0, 0, 0], [0, 0, 0, 0, 0, 1, 0, 0], [0, 0, 0, 0, 0, 0, 0, 1], [0, 0, 1, 0, 0, 0, 0, 0], [1, 0, 0, 0, 0, 0, 0, 0], [0, 0, 0, 0, 0, 0, 1, 0], [0, 0, 0, 0, 1, 0, 0, 0]]\n"
     ]
    }
   ],
   "source": [
    "import time\n",
    "\n",
    "def dashBoard():\n",
    "    def rangeA(matrix,i,j):\n",
    "        count=1\n",
    "        for x in range(8):\n",
    "                matrix[i][x]=1\n",
    "                matrix[x][j]=1\n",
    "        try:\n",
    "            while True:               \n",
    "                matrix[i+count][j+count]=1\n",
    "                count+=1\n",
    "        except IndexError:\n",
    "            count=1\n",
    "        try:\n",
    "            while True:      \n",
    "                if i - count <0 or j- count<0:\n",
    "                    raise IndexError\n",
    "                matrix[i-count][j-count]=1\n",
    "                count+=1\n",
    "        except IndexError: \n",
    "           count=1\n",
    "        try:\n",
    "            while True:\n",
    "                if j- count<0:\n",
    "                    raise IndexError                    \n",
    "                matrix[i+count][j-count]=1\n",
    "                count+=1\n",
    "        except IndexError:\n",
    "            count=1\n",
    "        try:\n",
    "            while True:\n",
    "                if i - count <0:\n",
    "                    raise IndexError      \n",
    "                matrix[i-count][j+count]=1\n",
    "                count+=1\n",
    "        except IndexError:\n",
    "            count=1            \n",
    "        return matrix\n",
    "    def placeQueens(x,y):\n",
    "        matrix=[[0 for y in range(8)] for x in range(8)]  \n",
    "        ans=[[0 for y in range(8)] for x in range(8)] \n",
    "        rangeA(matrix,x,y)\n",
    "        ans[x][y]=1\n",
    "        count=1\n",
    "        for i in range(8):\n",
    "           for j in range(8):\n",
    "                if matrix[i][j]==0:\n",
    "                    count+=1\n",
    "                    rangeA(matrix,i,j)\n",
    "                    ans[i][j]=1\n",
    "        return count, ans\n",
    "    \n",
    "   \n",
    "\n",
    "    for i in range(8):\n",
    "        for j in range(8):\n",
    "            count, ans= placeQueens(i,j)       \n",
    "            if count==8:\n",
    "                return(ans)       \n",
    "\n",
    "print(dashBoard())\n"
   ]
  },
  {
   "cell_type": "code",
   "execution_count": null,
   "metadata": {},
   "outputs": [],
   "source": []
  }
 ],
 "metadata": {
  "kernelspec": {
   "display_name": "Python 3",
   "language": "python",
   "name": "python3"
  },
  "language_info": {
   "codemirror_mode": {
    "name": "ipython",
    "version": 3
   },
   "file_extension": ".py",
   "mimetype": "text/x-python",
   "name": "python",
   "nbconvert_exporter": "python",
   "pygments_lexer": "ipython3",
   "version": "3.8.5"
  }
 },
 "nbformat": 4,
 "nbformat_minor": 4
}
