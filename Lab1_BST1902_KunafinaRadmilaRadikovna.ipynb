{
 "cells": [
  {
   "cell_type": "markdown",
   "metadata": {},
   "source": [
    "# Лабораторная работа №1"
   ]
  },
  {
   "cell_type": "markdown",
   "metadata": {},
   "source": [
    "## Выполнила студентка группы БСТ1902 Кунафина Р.Р."
   ]
  },
  {
   "cell_type": "markdown",
   "metadata": {},
   "source": [
    "### Задание №1"
   ]
  },
  {
   "cell_type": "code",
   "execution_count": 1,
   "metadata": {},
   "outputs": [
    {
     "name": "stdout",
     "output_type": "stream",
     "text": [
      "Hello world!\n"
     ]
    }
   ],
   "source": [
    "print('Hello world!')"
   ]
  },
  {
   "cell_type": "markdown",
   "metadata": {},
   "source": [
    "### Задание №2"
   ]
  },
  {
   "cell_type": "markdown",
   "metadata": {},
   "source": [
    "Написать генератор случайных матриц(многомерных), который принимает опциональные параметры m, n, min_limit, max_limit, где m и n указывают размер матрицы, а min_lim и max_lim - минимальное и максимальное значение для генерируемого числа. По умолчанию при отсутствии параметров принимать следующие значения: m = 50 n = 50 min_limit = -250 max_limit = 1000 + (номер своего варианта)"
   ]
  },
  {
   "cell_type": "code",
   "execution_count": 2,
   "metadata": {
    "scrolled": true
   },
   "outputs": [],
   "source": [
    "import random\n",
    "import numpy\n",
    "import time\n",
    "\n",
    "\n",
    "def generateMatrix(m = 50, n = 50, min_limit = -250, max_limit = 1010):\n",
    "    \"\"\"\n",
    "    m - число строк матрицы;\n",
    "    n - число столбцов матрицы;\n",
    "    min_limit - минимальное значение генерируемого числа;\n",
    "    max_limit - максимальное значение генерируемого числа;\n",
    "    \"\"\"\n",
    "    matrix = numpy.empty((m, n))\n",
    "    for i in range(m):\n",
    "        for j in range(n):\n",
    "            matrix[i][j] = random.randint(min_limit, max_limit)\n",
    "    return matrix.astype(int)"
   ]
  },
  {
   "cell_type": "markdown",
   "metadata": {},
   "source": [
    "### Задание №3"
   ]
  },
  {
   "cell_type": "markdown",
   "metadata": {},
   "source": [
    "Реализовать методы сортировки строк числовой матрицы в соответствии с заданием. Оценить время работы каждого алгоритма сортировки и сравнить его со временем стандартной функции сортировки. Испытания проводить на сгенерированных матрицах"
   ]
  },
  {
   "cell_type": "markdown",
   "metadata": {},
   "source": [
    "Функция для применения сортировки к матрице"
   ]
  },
  {
   "cell_type": "code",
   "execution_count": 3,
   "metadata": {},
   "outputs": [],
   "source": [
    "def sortMatrix(matrix, sortType):\n",
    "    \"\"\"\n",
    "    matrix - матрица для сортировки\n",
    "    sortType - функция необходимой сортировки\n",
    "    Возвращает время, затраченное на сортировку матрицы, не изменяя саму матрицу\n",
    "    \"\"\"\n",
    "    matrixC = matrix.copy()\n",
    "    startTime = time.perf_counter()\n",
    "    for row in matrixC:\n",
    "        sortType(row)\n",
    "    return time.perf_counter() - startTime"
   ]
  },
  {
   "cell_type": "markdown",
   "metadata": {},
   "source": [
    "### Стандартная функция сортировки"
   ]
  },
  {
   "cell_type": "code",
   "execution_count": 4,
   "metadata": {},
   "outputs": [],
   "source": [
    "def defaultSort(arr):\n",
    "    arr.sort()"
   ]
  },
  {
   "cell_type": "markdown",
   "metadata": {},
   "source": [
    "### Сортировка выбором"
   ]
  },
  {
   "cell_type": "code",
   "execution_count": 5,
   "metadata": {},
   "outputs": [],
   "source": [
    "def selectionSort(arr): \n",
    "    for i in range(len(arr) - 1):\n",
    "        smallest = i\n",
    "        for j in range(i + 1, len(arr)):\n",
    "            if arr[smallest] > arr[j]:\n",
    "                smallest = j\n",
    "        arr[i], arr[smallest] = arr[smallest], arr[i]"
   ]
  },
  {
   "cell_type": "markdown",
   "metadata": {},
   "source": [
    "### Сортировка вставкой"
   ]
  },
  {
   "cell_type": "code",
   "execution_count": 6,
   "metadata": {},
   "outputs": [],
   "source": [
    "def insertionSort(arr):\n",
    "    for i in range(1, len(arr)):\n",
    "        key = arr[i]\n",
    "        j = i - 1\n",
    "        while j >= 0 and arr[j] > key:\n",
    "            arr[j + 1] = arr[j]\n",
    "            j -= 1\n",
    "        arr[j + 1] = key"
   ]
  },
  {
   "cell_type": "markdown",
   "metadata": {},
   "source": [
    "### Сортировка обменом"
   ]
  },
  {
   "cell_type": "code",
   "execution_count": 7,
   "metadata": {},
   "outputs": [],
   "source": [
    "def bubbleSort(arr):\n",
    "    swapped = True\n",
    "    while swapped:\n",
    "        swapped = False\n",
    "        for i in range(len(arr) - 1):\n",
    "            if arr[i] > arr[i + 1]:\n",
    "                arr[i], arr[i + 1] = arr[i + 1], arr[i]\n",
    "                swapped = True"
   ]
  },
  {
   "cell_type": "markdown",
   "metadata": {},
   "source": [
    "### Сортировка Шелла"
   ]
  },
  {
   "cell_type": "code",
   "execution_count": 8,
   "metadata": {},
   "outputs": [],
   "source": [
    "def shellSort(arr):\n",
    "    step = len(arr)//2\n",
    "    while step > 0:\n",
    "        for i in range(step, len(arr)):\n",
    "            j = i\n",
    "            delta = j - step\n",
    "            while delta >= 0 and arr[delta] > arr[j]:\n",
    "                arr[delta], arr[j] = arr[j], arr[delta]\n",
    "                j = delta\n",
    "                delta = j - step\n",
    "        step //= 2"
   ]
  },
  {
   "cell_type": "markdown",
   "metadata": {},
   "source": [
    "### Турнирная сортировка\n"
   ]
  },
  {
   "cell_type": "code",
   "execution_count": 9,
   "metadata": {},
   "outputs": [],
   "source": [
    "def tournamentSort(arr):\n",
    "    tree = [None] * 2 * (len(arr) + len(arr) % 2)\n",
    "    index = len(tree) - len(arr) - len(arr) % 2\n",
    "    \n",
    "    for i, v in enumerate(arr):\n",
    "        tree[index + i] = (i, v)\n",
    "    \n",
    "    for j in range(len(arr)):\n",
    "        n = len(arr)\n",
    "        index = len(tree) - len(arr) - len(arr) % 2\n",
    "        while index > -1:\n",
    "            n = (n + 1) // 2\n",
    "            for i in range(n):\n",
    "                i = max(index + i * 2, 1)\n",
    "                if tree[i] != None and tree[i + 1] != None:\n",
    "                    if tree[i][1] < tree[i + 1][1]:\n",
    "                        tree[i // 2] = tree[i]\n",
    "                    else:\n",
    "                        tree[i // 2] = tree[i + 1]\n",
    "                else:\n",
    "                    tree[i // 2] = tree[i] if tree[i] != None else tree[i + 1]\n",
    "            index -= n\n",
    "\n",
    "        index, x = tree[0]\n",
    "        arr[j] = x\n",
    "        tree[len(tree) - len(arr) - len(arr) % 2 + index] = None"
   ]
  },
  {
   "cell_type": "markdown",
   "metadata": {},
   "source": [
    "### Быстрая сортировка"
   ]
  },
  {
   "cell_type": "code",
   "execution_count": 10,
   "metadata": {},
   "outputs": [],
   "source": [
    "def partition(arr, low, high):\n",
    "    pivot = arr[(low + high) // 2]\n",
    "    i = low - 1\n",
    "    j = high + 1\n",
    "    while True:\n",
    "        i += 1\n",
    "        while arr[i] < pivot:\n",
    "            i += 1\n",
    "        j -= 1\n",
    "        while arr[j] > pivot:\n",
    "            j -= 1\n",
    "        if i >= j:\n",
    "            return j\n",
    "        arr[i], arr[j] = arr[j], arr[i]\n",
    "\n",
    "\n",
    "def quickSort(arr):  \n",
    "    def _quickSort(items, low, high):\n",
    "        if low < high:\n",
    "            split_index = partition(items, low, high)\n",
    "            _quickSort(items, low, split_index)\n",
    "            _quickSort(items, split_index + 1, high)\n",
    "    _quickSort(arr, 0, len(arr) - 1)"
   ]
  },
  {
   "cell_type": "markdown",
   "metadata": {},
   "source": [
    "### Пирамидальная сортировка"
   ]
  },
  {
   "cell_type": "code",
   "execution_count": 11,
   "metadata": {},
   "outputs": [],
   "source": [
    "def heapify(arr, heapSize, rootIndex):  \n",
    "    largest = rootIndex\n",
    "    leftChild = (2 * rootIndex) + 1\n",
    "    rightChild = (2 * rootIndex) + 2\n",
    "    if leftChild < heapSize and arr[leftChild] > arr[largest]:\n",
    "        largest = leftChild\n",
    "    if rightChild < heapSize and arr[rightChild] > arr[largest]:\n",
    "        largest = rightChild\n",
    "    if largest != rootIndex:\n",
    "        arr[rootIndex], arr[largest] = arr[largest], arr[rootIndex]\n",
    "        heapify(arr, heapSize, largest)\n",
    "def heapSort(arr):  \n",
    "    n = len(arr)\n",
    "    for i in range(n, -1, -1):\n",
    "        heapify(arr, n, i)\n",
    "    for i in range(n - 1, 0, -1):\n",
    "        arr[i], arr[0] = arr[0], arr[i]\n",
    "        heapify(arr, i, 0)"
   ]
  },
  {
   "cell_type": "code",
   "execution_count": 12,
   "metadata": {},
   "outputs": [
    {
     "name": "stdout",
     "output_type": "stream",
     "text": [
      "Сгенерированная матрица\n",
      " [[ 569  -71  925 ...  391  528  -55]\n",
      " [ 292   99  270 ...  608  -41  746]\n",
      " [   0  192  800 ...  791   14  724]\n",
      " ...\n",
      " [ 267  450 -219 ... -208  400 -117]\n",
      " [  62  301  754 ... -144 -241  982]\n",
      " [ 916  235  855 ...  813  327  914]]\n",
      "0.0014881999999998285 секунд длилась стандартная функция сортировки\n",
      "0.036292699999999734 секунд длилась сортировка выбором\n",
      "0.019173399999999674 секунд длилась сортировка вставкой\n",
      "0.06501760000000001 секунд длилась сортировка обменом\n",
      "0.01112499999999983 секунд длилась сортировка Шелла\n",
      "0.10216950000000002 секунд длилась турнирная сортировка\n",
      "0.01078929999999989 секунд длилась быстрая сортировка\n",
      "0.02004819999999974 секунд длилась пирамидальная сортировка\n"
     ]
    }
   ],
   "source": [
    "newMatrix = generateMatrix()\n",
    "print(\"Сгенерированная матрица\\n\", newMatrix)\n",
    "\n",
    "print(sortMatrix(newMatrix, defaultSort), \"секунд длилась стандартная функция сортировки\")\n",
    "print(sortMatrix(newMatrix, selectionSort), \"секунд длилась сортировка выбором\")\n",
    "print(sortMatrix(newMatrix, insertionSort), \"секунд длилась сортировка вставкой\")\n",
    "print(sortMatrix(newMatrix, bubbleSort), \"секунд длилась сортировка обменом\")\n",
    "print(sortMatrix(newMatrix, shellSort), \"секунд длилась сортировка Шелла\")\n",
    "print(sortMatrix(newMatrix, tournamentSort), \"секунд длилась турнирная сортировка\")\n",
    "print(sortMatrix(newMatrix, quickSort), \"секунд длилась быстрая сортировка\")\n",
    "print(sortMatrix(newMatrix, heapSort), \"секунд длилась пирамидальная сортировка\")"
   ]
  },
  {
   "cell_type": "markdown",
   "metadata": {},
   "source": [
    "### Задание №4"
   ]
  },
  {
   "cell_type": "markdown",
   "metadata": {},
   "source": [
    "Создать публичный репозиторий на github, и запустить выполненное задание в .ipynb формате."
   ]
  },
  {
   "cell_type": "markdown",
   "metadata": {},
   "source": [
    "### Вывод"
   ]
  },
  {
   "cell_type": "markdown",
   "metadata": {},
   "source": [
    "В ходе лабораторной работы мы научились реализовать разные методы сортировки строк числовой матрицы "
   ]
  },
  {
   "cell_type": "code",
   "execution_count": null,
   "metadata": {},
   "outputs": [],
   "source": []
  }
 ],
 "metadata": {
  "kernelspec": {
   "display_name": "Python 3",
   "language": "python",
   "name": "python3"
  },
  "language_info": {
   "codemirror_mode": {
    "name": "ipython",
    "version": 3
   },
   "file_extension": ".py",
   "mimetype": "text/x-python",
   "name": "python",
   "nbconvert_exporter": "python",
   "pygments_lexer": "ipython3",
   "version": "3.8.5"
  }
 },
 "nbformat": 4,
 "nbformat_minor": 4
}
